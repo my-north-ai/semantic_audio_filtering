{
 "cells": [
  {
   "cell_type": "code",
   "execution_count": null,
   "metadata": {},
   "outputs": [],
   "source": [
    "from utils.finetuning_utils import create_dataset, load_model, DataCollatorSpeechSeq2SeqWithPadding\n",
    "from transformers import Seq2SeqTrainingArguments, Seq2SeqTrainer, WhisperProcessor\n",
    "import os \n",
    "import mlflow\n",
    "\n",
    "train_dataset = create_dataset('train_manifest_no_synthetic_wps_processed.json')\n",
    "val_dataset = create_dataset('val_manifest_wps_processed.json')\n",
    "\n",
    "model_pretrained = \"openai/whisper-small\"\n",
    "\n",
    "\n",
    "# Create a folder for checkpoints\n",
    "os.makedirs(\"finetuning/checkpoints\", exist_ok=True)\n",
    "os.makedirs(\"finetuning/experiments\", exist_ok=True)\n",
    "\n",
    "\n",
    "chekpoint_name = model_pretrained.split(\"/\")[-1]\n",
    "checkpoint_folder = os.path.join(\"finetuning/checkpoints\", chekpoint_name)\n",
    "experiment_folder = os.path.join(\"finetuning/experiments\", chekpoint_name)\n",
    "\n",
    "model = load_model(model_pretrained)\n",
    "processor = WhisperProcessor.from_pretrained(model_pretrained, language=\"pt\", task=\"transcribe\")\n",
    "\n",
    "\n",
    "data_collator = DataCollatorSpeechSeq2SeqWithPadding(\n",
    "processor=processor,\n",
    "decoder_start_token_id=model.config.decoder_start_token_id,\n",
    ")   \n",
    "\n",
    "\n",
    "training_args = Seq2SeqTrainingArguments(\n",
    "    output_dir=checkpoint_folder,  \n",
    "    gradient_accumulation_steps=8,\n",
    "    per_device_train_batch_size=4,\n",
    "    per_device_eval_batch_size=16,\n",
    "    learning_rate=1e-5,\n",
    "    warmup_steps=int(0.5*len(train_dataset) * 3 / (32 * 4) / 10),\n",
    "    gradient_checkpointing=False,\n",
    "    fp16=True,\n",
    "    num_train_epochs = 3,\n",
    "    evaluation_strategy=\"steps\",\n",
    "    generation_max_length=448,\n",
    "    predict_with_generate=True,\n",
    "    save_steps=int(len(train_dataset) * 3 / (32 * 4) / 10), \n",
    "    eval_steps=int(len(train_dataset) * 3 / (32 * 4) / 10), \n",
    "    logging_steps=10,\n",
    "    report_to=[\"mlflow\"],\n",
    "    push_to_hub=False,\n",
    ")\n",
    "\n",
    "\n",
    "trainer = Seq2SeqTrainer(\n",
    "    args=training_args,\n",
    "    model=model,\n",
    "    train_dataset=train_dataset,\n",
    "    eval_dataset=val_dataset,\n",
    "    data_collator=data_collator,\n",
    "    tokenizer=processor.feature_extractor,   \n",
    ")\n",
    "\n",
    "\n",
    "mlflow.set_experiment(\"finetuning/experiments\")\n",
    "with mlflow.start_run() as run:\n",
    "    trainer.train()\n",
    "    trainer.save_model(checkpoint_folder)"
   ]
  },
  {
   "cell_type": "code",
   "execution_count": 5,
   "metadata": {},
   "outputs": [],
   "source": []
  },
  {
   "cell_type": "code",
   "execution_count": 14,
   "metadata": {},
   "outputs": [],
   "source": []
  },
  {
   "cell_type": "code",
   "execution_count": 15,
   "metadata": {},
   "outputs": [],
   "source": []
  },
  {
   "cell_type": "code",
   "execution_count": null,
   "metadata": {},
   "outputs": [],
   "source": []
  },
  {
   "cell_type": "code",
   "execution_count": null,
   "metadata": {},
   "outputs": [],
   "source": []
  },
  {
   "cell_type": "code",
   "execution_count": null,
   "metadata": {},
   "outputs": [],
   "source": []
  }
 ],
 "metadata": {
  "kernelspec": {
   "display_name": "tts-data-augmentation-vGKV77-n-py3.11",
   "language": "python",
   "name": "python3"
  },
  "language_info": {
   "codemirror_mode": {
    "name": "ipython",
    "version": 3
   },
   "file_extension": ".py",
   "mimetype": "text/x-python",
   "name": "python",
   "nbconvert_exporter": "python",
   "pygments_lexer": "ipython3",
   "version": "3.11.8"
  }
 },
 "nbformat": 4,
 "nbformat_minor": 2
}
