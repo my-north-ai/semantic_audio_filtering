{
 "cells": [
  {
   "cell_type": "code",
   "execution_count": null,
   "metadata": {},
   "outputs": [],
   "source": [
    "from text_preprocessing_utils import apply_preprocessors\n",
    "from manifest_utils import convert_hf_dataset_to_manifest, read_manifest_file, write_manifest_file, remove_special_samples, get_charset\n",
    "from datasets import load_dataset\n",
    "\n",
    "cv_16_train = load_dataset(\"mozilla-foundation/common_voice_16_1\", \"pt\", split=\"train\")\n",
    "convert_hf_dataset_to_manifest(dataset=cv_16_train, dataset_type='common_voice', manifest_filename='common_voice_16_1_train_manifest.json')\n",
    "train_manifest = read_manifest_file('common_voice_16_1_train_manifest.json')\n",
    "train_manifest_processed = apply_preprocessors(train_manifest)\n",
    "train_manifest_processed = remove_special_samples(train_manifest_processed)\n",
    "write_manifest_file(train_manifest_processed,'common_voice_16_1_train_manifest.json')"
   ]
  },
  {
   "cell_type": "code",
   "execution_count": null,
   "metadata": {},
   "outputs": [],
   "source": []
  },
  {
   "cell_type": "code",
   "execution_count": null,
   "metadata": {},
   "outputs": [],
   "source": []
  },
  {
   "cell_type": "code",
   "execution_count": 4,
   "metadata": {},
   "outputs": [],
   "source": []
  },
  {
   "cell_type": "code",
   "execution_count": 5,
   "metadata": {},
   "outputs": [
    {
     "name": "stderr",
     "output_type": "stream",
     "text": [
      "Applying remove_special_chars: 100%|██████████| 540/540 [00:00<00:00, 325093.18it/s]\n",
      "Applying remove_others: 100%|██████████| 540/540 [00:00<00:00, 149707.46it/s]\n",
      "Applying replace_patterns: 100%|██████████| 540/540 [00:00<00:00, 33130.85it/s]\n",
      "Applying convert_to_digit: 100%|██████████| 540/540 [00:00<00:00, 267184.64it/s]\n",
      "Applying add_uppercase_and_final_punctuation: 100%|██████████| 540/540 [00:00<00:00, 429613.84it/s]\n",
      "Applying remove_dobule_space: 100%|██████████| 540/540 [00:00<00:00, 1015205.81it/s]\n",
      "Applying remove_space_punctuation: 100%|██████████| 540/540 [00:00<00:00, 656119.40it/s]"
     ]
    },
    {
     "name": "stdout",
     "output_type": "stream",
     "text": [
      "Finished processing manifest !\n"
     ]
    },
    {
     "name": "stderr",
     "output_type": "stream",
     "text": [
      "\n"
     ]
    }
   ],
   "source": []
  },
  {
   "cell_type": "code",
   "execution_count": 6,
   "metadata": {},
   "outputs": [],
   "source": []
  },
  {
   "cell_type": "code",
   "execution_count": 7,
   "metadata": {},
   "outputs": [],
   "source": []
  },
  {
   "cell_type": "code",
   "execution_count": null,
   "metadata": {},
   "outputs": [],
   "source": [
    "\n",
    "\n"
   ]
  },
  {
   "cell_type": "code",
   "execution_count": null,
   "metadata": {},
   "outputs": [],
   "source": []
  },
  {
   "cell_type": "code",
   "execution_count": null,
   "metadata": {},
   "outputs": [],
   "source": []
  },
  {
   "cell_type": "code",
   "execution_count": null,
   "metadata": {},
   "outputs": [],
   "source": []
  },
  {
   "cell_type": "code",
   "execution_count": null,
   "metadata": {},
   "outputs": [],
   "source": [
    "train_charset = get_charset(train_manifest_processed)"
   ]
  },
  {
   "cell_type": "code",
   "execution_count": null,
   "metadata": {},
   "outputs": [],
   "source": [
    "print(f\"Number of tokens in train set : {len(train_charset)}\")"
   ]
  },
  {
   "cell_type": "code",
   "execution_count": null,
   "metadata": {},
   "outputs": [],
   "source": []
  },
  {
   "cell_type": "code",
   "execution_count": null,
   "metadata": {},
   "outputs": [],
   "source": []
  },
  {
   "cell_type": "code",
   "execution_count": null,
   "metadata": {},
   "outputs": [],
   "source": [
    "train_charset = get_charset(train_manifest_processed)"
   ]
  },
  {
   "cell_type": "code",
   "execution_count": null,
   "metadata": {},
   "outputs": [],
   "source": [
    "print(f\"Number of tokens in train set : {len(train_charset)}\")"
   ]
  },
  {
   "cell_type": "code",
   "execution_count": null,
   "metadata": {},
   "outputs": [],
   "source": []
  },
  {
   "cell_type": "code",
   "execution_count": null,
   "metadata": {},
   "outputs": [],
   "source": []
  },
  {
   "cell_type": "code",
   "execution_count": null,
   "metadata": {},
   "outputs": [],
   "source": []
  }
 ],
 "metadata": {
  "kernelspec": {
   "display_name": "tts-data-augmentation-vGKV77-n-py3.11",
   "language": "python",
   "name": "python3"
  },
  "language_info": {
   "codemirror_mode": {
    "name": "ipython",
    "version": 3
   },
   "file_extension": ".py",
   "mimetype": "text/x-python",
   "name": "python",
   "nbconvert_exporter": "python",
   "pygments_lexer": "ipython3",
   "version": "3.11.8"
  }
 },
 "nbformat": 4,
 "nbformat_minor": 2
}
