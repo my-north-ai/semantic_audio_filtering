{
 "cells": [
  {
   "cell_type": "code",
   "execution_count": null,
   "metadata": {},
   "outputs": [],
   "source": [
    "from datasets import load_dataset\n",
    "\n",
    "cv_16_train = load_dataset(\"mozilla-foundation/common_voice_16_1\", \"pt\", split=\"train\")"
   ]
  },
  {
   "cell_type": "code",
   "execution_count": null,
   "metadata": {},
   "outputs": [],
   "source": [
    "from manifest_utils import convert_hf_dataset_to_manifest"
   ]
  },
  {
   "cell_type": "code",
   "execution_count": null,
   "metadata": {},
   "outputs": [],
   "source": [
    "convert_hf_dataset_to_manifest(dataset=cv_16_train, dataset_type='common_voice', manifest_filename='common_voice_16_1_train_manifest.json')"
   ]
  },
  {
   "cell_type": "code",
   "execution_count": 5,
   "metadata": {},
   "outputs": [],
   "source": [
    "from text_preprocessing_utils import PREPROCESSORS\n",
    "from manifest_utils import read_manifest_file"
   ]
  },
  {
   "cell_type": "code",
   "execution_count": 6,
   "metadata": {},
   "outputs": [],
   "source": [
    "train_manifest = read_manifest_file('common_voice_16_1_train_manifest.json')"
   ]
  },
  {
   "cell_type": "code",
   "execution_count": 7,
   "metadata": {},
   "outputs": [],
   "source": [
    "from text_preprocessing_utils import apply_preprocessors"
   ]
  },
  {
   "cell_type": "code",
   "execution_count": 8,
   "metadata": {},
   "outputs": [
    {
     "name": "stderr",
     "output_type": "stream",
     "text": [
      "Applying remove_special_chars: 100%|██████████| 732/732 [00:00<00:00, 355886.23it/s]\n",
      "Applying remove_others: 100%|██████████| 732/732 [00:00<00:00, 194220.05it/s]\n",
      "Applying replace_patterns: 100%|██████████| 732/732 [00:00<00:00, 34817.37it/s]\n",
      "Applying convert_to_digit: 100%|██████████| 732/732 [00:00<00:00, 328086.19it/s]\n",
      "Applying add_uppercase_and_final_punctuation: 100%|██████████| 732/732 [00:00<00:00, 298399.31it/s]\n",
      "Applying remove_dobule_space: 100%|██████████| 732/732 [00:00<00:00, 171072.07it/s]\n",
      "Applying remove_space_punctuation: 100%|██████████| 732/732 [00:00<00:00, 750667.61it/s]"
     ]
    },
    {
     "name": "stdout",
     "output_type": "stream",
     "text": [
      "Finished processing manifest !\n"
     ]
    },
    {
     "name": "stderr",
     "output_type": "stream",
     "text": [
      "\n"
     ]
    }
   ],
   "source": [
    "train_manifest_processed = apply_preprocessors(train_manifest)"
   ]
  },
  {
   "cell_type": "code",
   "execution_count": 9,
   "metadata": {},
   "outputs": [],
   "source": []
  },
  {
   "cell_type": "code",
   "execution_count": 10,
   "metadata": {},
   "outputs": [
    {
     "name": "stderr",
     "output_type": "stream",
     "text": [
      "Computing character set: 100%|██████████| 732/732 [00:00<00:00, 332599.99it/s]\n"
     ]
    }
   ],
   "source": [
    "train_charset = get_charset(train_manifest_processed)"
   ]
  },
  {
   "cell_type": "code",
   "execution_count": 11,
   "metadata": {},
   "outputs": [
    {
     "name": "stdout",
     "output_type": "stream",
     "text": [
      "Number of tokens in train set : 72\n"
     ]
    }
   ],
   "source": [
    "print(f\"Number of tokens in train set : {len(train_charset)}\")"
   ]
  },
  {
   "cell_type": "code",
   "execution_count": 12,
   "metadata": {},
   "outputs": [],
   "source": [
    "from manifest_utils import remove_special_samples\n",
    "from manifest_utils import get_charset\n",
    "from manifest_utils import write_manifest_file"
   ]
  },
  {
   "cell_type": "code",
   "execution_count": 13,
   "metadata": {},
   "outputs": [],
   "source": [
    "train_manifest_processed = remove_special_samples(train_manifest_processed)"
   ]
  },
  {
   "cell_type": "code",
   "execution_count": 14,
   "metadata": {},
   "outputs": [
    {
     "name": "stderr",
     "output_type": "stream",
     "text": [
      "Computing character set: 100%|██████████| 731/731 [00:00<00:00, 366225.06it/s]\n"
     ]
    }
   ],
   "source": [
    "train_charset = get_charset(train_manifest_processed)"
   ]
  },
  {
   "cell_type": "code",
   "execution_count": 15,
   "metadata": {},
   "outputs": [
    {
     "name": "stdout",
     "output_type": "stream",
     "text": [
      "Number of tokens in train set : 71\n"
     ]
    }
   ],
   "source": [
    "print(f\"Number of tokens in train set : {len(train_charset)}\")"
   ]
  },
  {
   "cell_type": "code",
   "execution_count": 16,
   "metadata": {},
   "outputs": [],
   "source": []
  },
  {
   "cell_type": "code",
   "execution_count": 18,
   "metadata": {},
   "outputs": [],
   "source": [
    "write_manifest_file(train_manifest_processed,'common_voice_16_1_train_manifest.json')"
   ]
  },
  {
   "cell_type": "code",
   "execution_count": null,
   "metadata": {},
   "outputs": [],
   "source": []
  }
 ],
 "metadata": {
  "kernelspec": {
   "display_name": "tts-data-augmentation-vGKV77-n-py3.11",
   "language": "python",
   "name": "python3"
  },
  "language_info": {
   "codemirror_mode": {
    "name": "ipython",
    "version": 3
   },
   "file_extension": ".py",
   "mimetype": "text/x-python",
   "name": "python",
   "nbconvert_exporter": "python",
   "pygments_lexer": "ipython3",
   "version": "3.11.8"
  }
 },
 "nbformat": 4,
 "nbformat_minor": 2
}
