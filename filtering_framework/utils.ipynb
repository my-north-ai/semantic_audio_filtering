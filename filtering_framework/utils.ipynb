{
 "cells": [
  {
   "cell_type": "code",
   "execution_count": 2,
   "metadata": {},
   "outputs": [],
   "source": [
    "from datasets import load_dataset\n",
    "\n",
    "cv_16_train = load_dataset(\"mozilla-foundation/common_voice_16_1\", \"pt\", split=\"train\")"
   ]
  },
  {
   "cell_type": "code",
   "execution_count": null,
   "metadata": {},
   "outputs": [],
   "source": [
    "# create a directory to store the files using os\n",
    "import os\n",
    "\n",
    "os.makedirs(\"cv_16_train\", exist_ok=True)"
   ]
  },
  {
   "cell_type": "code",
   "execution_count": null,
   "metadata": {},
   "outputs": [],
   "source": [
    "# create a directory to store the files using bash command\n",
    "!mkdir -p cv_16_train"
   ]
  },
  {
   "cell_type": "code",
   "execution_count": 5,
   "metadata": {},
   "outputs": [],
   "source": [
    "df = cv_16_train"
   ]
  },
  {
   "cell_type": "code",
   "execution_count": null,
   "metadata": {},
   "outputs": [],
   "source": [
    "for sample in df:\n",
    "    audio = sample['audio']\n",
    "    audio_name = audio['path'].split('/')[-1].split('.')[0]\n",
    "    if not os.path.exists(audio_name):\n",
    "        try:\n",
    "            audio_resampled = librosa.resample(y=audio['array'], orig_sr=audio['sampling_rate'], target_sr=16000)\n",
    "            sf.write('/quartznet_train/'+audio_name+'.wav', audio_resampled, samplerate=16000)\n",
    "        except sf.LibsndfileError as e:\n",
    "            print(\"Error: \", e, \"with audio: \", audio_name)"
   ]
  },
  {
   "cell_type": "code",
   "execution_count": null,
   "metadata": {},
   "outputs": [],
   "source": [
    "def convert_hf_dataset_to_wav(df):\n",
    "    \n",
    "    \n"
   ]
  },
  {
   "cell_type": "code",
   "execution_count": 4,
   "metadata": {},
   "outputs": [
    {
     "data": {
      "text/plain": [
       "{'client_id': 'be4164b2664c4d9cdf7d10cf624dfc0e4eb06c2284eb1448bb32273f1513af423e500234654641384a19e5c04c2edfbcd0a1b3fbcc9e296b5ffd79856efce5ca',\n",
       " 'path': '/Users/tmsantos/.cache/huggingface/datasets/downloads/extracted/012e9243ba77a77e48628f0af282362b49a8d918325a3f1f8c5786507fed6b95/pt_train_0/common_voice_pt_25163425.mp3',\n",
       " 'audio': {'path': '/Users/tmsantos/.cache/huggingface/datasets/downloads/extracted/012e9243ba77a77e48628f0af282362b49a8d918325a3f1f8c5786507fed6b95/pt_train_0/common_voice_pt_25163425.mp3',\n",
       "  'array': array([ 4.83169060e-13, -2.27373675e-13, -3.41060513e-13, ...,\n",
       "          9.39775055e-06,  6.62311663e-07, -1.66810230e-06]),\n",
       "  'sampling_rate': 48000},\n",
       " 'sentence': 'Vitória de Santo Antão',\n",
       " 'up_votes': 2,\n",
       " 'down_votes': 0,\n",
       " 'age': '',\n",
       " 'gender': '',\n",
       " 'accent': '',\n",
       " 'locale': 'pt',\n",
       " 'segment': '',\n",
       " 'variant': ''}"
      ]
     },
     "execution_count": 4,
     "metadata": {},
     "output_type": "execute_result"
    }
   ],
   "source": [
    "import os\n",
    "\n",
    "from tqdm import tqdm\n",
    "import librosa\n",
    "import soundfile as sf\n",
    "\n",
    "def process_sample(sample):\n",
    "    audio = sample['audio']\n",
    "    audio_name = audio['path'].split('/')[-1].split('.')[0]\n",
    "    if not os.path.exists(audio_name):\n",
    "        try:\n",
    "            audio_resampled = librosa.resample(y=audio['array'], orig_sr=audio['sampling_rate'], target_sr=16000)\n",
    "            sf.write('/quartznet_train/'+audio_name+'.wav', audio_resampled, samplerate=16000)\n",
    "        except sf.LibsndfileError as e:\n",
    "            print(audio_name)\n",
    "\n",
    "\n",
    "# Initialize tqdm with the total number of samples\n",
    "progress_bar = tqdm(total=len(dataset_train), desc=\"Processing samples\")\n",
    "\n",
    "# Process each sample in the dataset\n",
    "for sample in dataset_train:\n",
    "    process_sample(sample)\n",
    "    progress_bar.update(1)\n",
    "\n",
    "# Close the progress bar after finishing the loop\n",
    "progress_bar.close()"
   ]
  },
  {
   "cell_type": "code",
   "execution_count": null,
   "metadata": {},
   "outputs": [],
   "source": []
  }
 ],
 "metadata": {
  "kernelspec": {
   "display_name": "tts-data-augmentation-vGKV77-n-py3.11",
   "language": "python",
   "name": "python3"
  },
  "language_info": {
   "codemirror_mode": {
    "name": "ipython",
    "version": 3
   },
   "file_extension": ".py",
   "mimetype": "text/x-python",
   "name": "python",
   "nbconvert_exporter": "python",
   "pygments_lexer": "ipython3",
   "version": "3.11.8"
  }
 },
 "nbformat": 4,
 "nbformat_minor": 2
}
