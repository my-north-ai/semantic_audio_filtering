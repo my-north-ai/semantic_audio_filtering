{
 "cells": [
  {
   "cell_type": "code",
   "execution_count": 1,
   "metadata": {},
   "outputs": [],
   "source": [
    "from filtering import FilteringFramework\n",
    "from model_utils import merge_conf"
   ]
  },
  {
   "cell_type": "code",
   "execution_count": 2,
   "metadata": {},
   "outputs": [],
   "source": [
    "base_conf_path = 'configs/base_config.yaml'\n",
    "dataset_conf_path = 'configs/dataset.yaml'\n",
    "model_conf_path = 'configs/model.yaml'\n",
    "config = merge_conf(base_conf_path=base_conf_path, dataset_conf_path=dataset_conf_path,model_conf_path=model_conf_path)"
   ]
  },
  {
   "cell_type": "code",
   "execution_count": 3,
   "metadata": {},
   "outputs": [
    {
     "name": "stdout",
     "output_type": "stream",
     "text": [
      "{'dataset_name': 'common_voice', 'data_dir': 'data/', 'train_filename': 'common_voice_16_1_train_manifest.json', 'val_filename': 'common_voice_16_1_train_manifest.json', 'to_filter_filename': 'common_voice_16_1_train_manifest.json', 'text': {'max_seq_length': 256, 'tokenizer': 'albertinatokenizer'}, 'audio': {'sr': 16000, 'crop_length': 30, 'random_crop': True, 'augment': False, 'p_noise': 0.3, 'p_pitch_shift': 0.4}}\n",
      "data/common_voice_16_1_train_manifest.json\n"
     ]
    },
    {
     "name": "stderr",
     "output_type": "stream",
     "text": [
      "Some weights of DebertaForSequenceClassification were not initialized from the model checkpoint at PORTULAN/albertina-100m-portuguese-ptpt-encoder and are newly initialized: ['pooler.dense.bias', 'pooler.dense.weight']\n",
      "You should probably TRAIN this model on a down-stream task to be able to use it for predictions and inference.\n"
     ]
    }
   ],
   "source": [
    "filtering = FilteringFramework(config, pretrained_model_path='our_checkpoint/trained_layers.pt')"
   ]
  },
  {
   "cell_type": "code",
   "execution_count": 4,
   "metadata": {},
   "outputs": [
    {
     "name": "stderr",
     "output_type": "stream",
     "text": [
      "                                                           "
     ]
    },
    {
     "name": "stdout",
     "output_type": "stream",
     "text": [
      "Mean: 0.7191189527511597\n",
      "Standard Deviation: 0.07025180011987686\n",
      "Total number of samples to delete: 0\n",
      "Total audio duration to delete: 0.0 minutes\n"
     ]
    },
    {
     "name": "stderr",
     "output_type": "stream",
     "text": [
      "\r"
     ]
    }
   ],
   "source": [
    "filtering.run(data_manifest_path='data/common_voice_16_1_train_manifest.json')"
   ]
  },
  {
   "cell_type": "code",
   "execution_count": null,
   "metadata": {},
   "outputs": [],
   "source": []
  }
 ],
 "metadata": {
  "kernelspec": {
   "display_name": "tts-data-augmentation-vGKV77-n-py3.11",
   "language": "python",
   "name": "python3"
  },
  "language_info": {
   "codemirror_mode": {
    "name": "ipython",
    "version": 3
   },
   "file_extension": ".py",
   "mimetype": "text/x-python",
   "name": "python",
   "nbconvert_exporter": "python",
   "pygments_lexer": "ipython3",
   "version": "3.11.8"
  }
 },
 "nbformat": 4,
 "nbformat_minor": 2
}
